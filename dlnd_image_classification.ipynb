{
 "cells": [
  {
   "cell_type": "markdown",
   "metadata": {
    "collapsed": true,
    "deletable": true,
    "editable": true
   },
   "source": [
    "# Image Classification\n",
    "In this project, you'll classify images from the [CIFAR-10 dataset](https://www.cs.toronto.edu/~kriz/cifar.html).  The dataset consists of airplanes, dogs, cats, and other objects. You'll preprocess the images, then train a convolutional neural network on all the samples. The images need to be normalized and the labels need to be one-hot encoded.  You'll get to apply what you learned and build a convolutional, max pooling, dropout, and fully connected layers.  At the end, you'll get to see your neural network's predictions on the sample images.\n",
    "## Get the Data\n",
    "Run the following cell to download the [CIFAR-10 dataset for python](https://www.cs.toronto.edu/~kriz/cifar-10-python.tar.gz)."
   ]
  },
  {
   "cell_type": "code",
   "execution_count": 1,
   "metadata": {
    "collapsed": false,
    "deletable": true,
    "editable": true
   },
   "outputs": [
    {
     "name": "stderr",
     "output_type": "stream",
     "text": [
      "CIFAR-10 Dataset: 171MB [00:34, 4.95MB/s]                              \n"
     ]
    },
    {
     "name": "stdout",
     "output_type": "stream",
     "text": [
      "All files found!\n"
     ]
    }
   ],
   "source": [
    "\"\"\"\n",
    "DON'T MODIFY ANYTHING IN THIS CELL THAT IS BELOW THIS LINE\n",
    "\"\"\"\n",
    "from urllib.request import urlretrieve\n",
    "from os.path import isfile, isdir\n",
    "from tqdm import tqdm\n",
    "import problem_unittests as tests\n",
    "import tarfile\n",
    "\n",
    "cifar10_dataset_folder_path = 'cifar-10-batches-py'\n",
    "\n",
    "# Use Floyd's cifar-10 dataset if present\n",
    "floyd_cifar10_location = '/input/cifar-10/python.tar.gz'\n",
    "if isfile(floyd_cifar10_location):\n",
    "    tar_gz_path = floyd_cifar10_location\n",
    "else:\n",
    "    tar_gz_path = 'cifar-10-python.tar.gz'\n",
    "\n",
    "class DLProgress(tqdm):\n",
    "    last_block = 0\n",
    "\n",
    "    def hook(self, block_num=1, block_size=1, total_size=None):\n",
    "        self.total = total_size\n",
    "        self.update((block_num - self.last_block) * block_size)\n",
    "        self.last_block = block_num\n",
    "\n",
    "if not isfile(tar_gz_path):\n",
    "    with DLProgress(unit='B', unit_scale=True, miniters=1, desc='CIFAR-10 Dataset') as pbar:\n",
    "        urlretrieve(\n",
    "            'https://www.cs.toronto.edu/~kriz/cifar-10-python.tar.gz',\n",
    "            tar_gz_path,\n",
    "            pbar.hook)\n",
    "\n",
    "if not isdir(cifar10_dataset_folder_path):\n",
    "    with tarfile.open(tar_gz_path) as tar:\n",
    "        tar.extractall()\n",
    "        tar.close()\n",
    "\n",
    "\n",
    "tests.test_folder_path(cifar10_dataset_folder_path)"
   ]
  },
  {
   "cell_type": "markdown",
   "metadata": {
    "deletable": true,
    "editable": true
   },
   "source": [
    "## Explore the Data\n",
    "The dataset is broken into batches to prevent your machine from running out of memory.  The CIFAR-10 dataset consists of 5 batches, named `data_batch_1`, `data_batch_2`, etc.. Each batch contains the labels and images that are one of the following:\n",
    "* airplane\n",
    "* automobile\n",
    "* bird\n",
    "* cat\n",
    "* deer\n",
    "* dog\n",
    "* frog\n",
    "* horse\n",
    "* ship\n",
    "* truck\n",
    "\n",
    "Understanding a dataset is part of making predictions on the data.  Play around with the code cell below by changing the `batch_id` and `sample_id`. The `batch_id` is the id for a batch (1-5). The `sample_id` is the id for a image and label pair in the batch.\n",
    "\n",
    "Ask yourself \"What are all possible labels?\", \"What is the range of values for the image data?\", \"Are the labels in order or random?\".  Answers to questions like these will help you preprocess the data and end up with better predictions."
   ]
  },
  {
   "cell_type": "code",
   "execution_count": 2,
   "metadata": {
    "collapsed": false,
    "deletable": true,
    "editable": true
   },
   "outputs": [
    {
     "name": "stdout",
     "output_type": "stream",
     "text": [
      "\n",
      "Stats of batch 1:\n",
      "Samples: 10000\n",
      "Label Counts: {0: 1005, 1: 974, 2: 1032, 3: 1016, 4: 999, 5: 937, 6: 1030, 7: 1001, 8: 1025, 9: 981}\n",
      "First 20 Labels: [6, 9, 9, 4, 1, 1, 2, 7, 8, 3, 4, 7, 7, 2, 9, 9, 9, 3, 2, 6]\n",
      "\n",
      "Example of Image 5:\n",
      "Image - Min Value: 0 Max Value: 252\n",
      "Image - Shape: (32, 32, 3)\n",
      "Label - Label Id: 1 Name: automobile\n"
     ]
    },
    {
     "data": {
      "image/png": "[encoded data removed]",
      "text/plain": [
       "<matplotlib.figure.Figure at 0x7f92e2e0cbe0>"
      ]
     },
     "metadata": {
      "image/png": {
       "height": 250,
       "width": 253
      }
     },
     "output_type": "display_data"
    }
   ],
   "source": [
    "%matplotlib inline\n",
    "%config InlineBackend.figure_format = 'retina'\n",
    "\n",
    "import helper\n",
    "import numpy as np\n",
    "\n",
    "# Explore the dataset\n",
    "batch_id = 1\n",
    "sample_id = 5\n",
    "helper.display_stats(cifar10_dataset_folder_path, batch_id, sample_id)"
   ]
  },
  {
   "cell_type": "markdown",
   "metadata": {
    "deletable": true,
    "editable": true
   },
   "source": [
    "## Implement Preprocess Functions\n",
    "### Normalize\n",
    "In the cell below, implement the `normalize` function to take in image data, `x`, and return it as a normalized Numpy array. The values should be in the range of 0 to 1, inclusive.  The return object should be the same shape as `x`."
   ]
  },
  {
   "cell_type": "code",
   "execution_count": 3,
   "metadata": {
    "collapsed": false,
    "deletable": true,
    "editable": true
   },
   "outputs": [
    {
     "name": "stdout",
     "output_type": "stream",
     "text": [
      "Tests Passed\n"
     ]
    }
   ],
   "source": [
    "def normalize(x):\n",
    "    \"\"\"\n",
    "    Normalize a list of sample image data in the range of 0 to 1\n",
    "    : x: List of image data.  The image shape is (32, 32, 3)\n",
    "    : return: Numpy array of normalize data\n",
    "    \"\"\"\n",
    "    a = 0\n",
    "    b = 1\n",
    "    \n",
    "    # Implement Min-Max scaling for grayscale image data\n",
    "    return a + (x-x.min())*(b-a)/(x.max()-x.min())\n",
    "\n",
    "\"\"\"\n",
    "DON'T MODIFY ANYTHING IN THIS CELL THAT IS BELOW THIS LINE\n",
    "\"\"\"\n",
    "tests.test_normalize(normalize)"
   ]
  },
  {
   "cell_type": "markdown",
   "metadata": {
    "deletable": true,
    "editable": true
   },
   "source": [
    "### One-hot encode\n",
    "Just like the previous code cell, you'll be implementing a function for preprocessing.  This time, you'll implement the `one_hot_encode` function. The input, `x`, are a list of labels.  Implement the function to return the list of labels as One-Hot encoded Numpy array.  The possible values for labels are 0 to 9. The one-hot encoding function should return the same encoding for each value between each call to `one_hot_encode`.  Make sure to save the map of encodings outside the function.\n",
    "\n",
    "Hint: Don't reinvent the wheel."
   ]
  },
  {
   "cell_type": "code",
   "execution_count": 4,
   "metadata": {
    "collapsed": false,
    "deletable": true,
    "editable": true
   },
   "outputs": [
    {
     "name": "stdout",
     "output_type": "stream",
     "text": [
      "Tests Passed\n"
     ]
    }
   ],
   "source": [
    "from sklearn.preprocessing import LabelBinarizer\n",
    "\n",
    "def one_hot_encode(x):\n",
    "    \"\"\"\n",
    "    One hot encode a list of sample labels. Return a one-hot encoded vector for each label.\n",
    "    : x: List of sample Labels\n",
    "    : return: Numpy array of one-hot encoded labels\n",
    "    \"\"\"\n",
    "    #lb = LabelBinarizer(sparse_output=True) \n",
    "    #lb.fit(x)\n",
    "    #return lb.transform(x)\n",
    "    \n",
    "    one_hot = np.zeros(shape=(len(x), 10))\n",
    "    for i in range(len(x)):\n",
    "        for j in range(10):\n",
    "            one_hot[i][j] = (j == x[i])\n",
    "            \n",
    "    return one_hot\n",
    "\n",
    "    print('Labels One-Hot Encoded')\n",
    "\n",
    "\n",
    "\"\"\"\n",
    "DON'T MODIFY ANYTHING IN THIS CELL THAT IS BELOW THIS LINE\n",
    "\"\"\"\n",
    "tests.test_one_hot_encode(one_hot_encode)"
   ]
  },
  {
   "cell_type": "markdown",
   "metadata": {
    "deletable": true,
    "editable": true
   },
   "source": [
    "### Randomize Data\n",
    "As you saw from exploring the data above, the order of the samples are randomized.  It doesn't hurt to randomize it again, but you don't need to for this dataset."
   ]
  },
  {
   "cell_type": "markdown",
   "metadata": {
    "deletable": true,
    "editable": true
   },
   "source": [
    "## Preprocess all the data and save it\n",
    "Running the code cell below will preprocess all the CIFAR-10 data and save it to file. The code below also uses 10% of the training data for validation."
   ]
  },
  {
   "cell_type": "code",
   "execution_count": 5,
   "metadata": {
    "collapsed": false,
    "deletable": true,
    "editable": true
   },
   "outputs": [],
   "source": [
    "\"\"\"\n",
    "DON'T MODIFY ANYTHING IN THIS CELL\n",
    "\"\"\"\n",
    "# Preprocess Training, Validation, and Testing Data\n",
    "helper.preprocess_and_save_data(cifar10_dataset_folder_path, normalize, one_hot_encode)"
   ]
  },
  {
   "cell_type": "markdown",
   "metadata": {
    "deletable": true,
    "editable": true
   },
   "source": [
    "# Check Point\n",
    "This is your first checkpoint.  If you ever decide to come back to this notebook or have to restart the notebook, you can start from here.  The preprocessed data has been saved to disk."
   ]
  },
  {
   "cell_type": "code",
   "execution_count": 6,
   "metadata": {
    "collapsed": true,
    "deletable": true,
    "editable": true
   },
   "outputs": [],
   "source": [
    "\"\"\"\n",
    "DON'T MODIFY ANYTHING IN THIS CELL\n",
    "\"\"\"\n",
    "import pickle\n",
    "import problem_unittests as tests\n",
    "import helper\n",
    "\n",
    "# Load the Preprocessed Validation data\n",
    "valid_features, valid_labels = pickle.load(open('preprocess_validation.p', mode='rb'))"
   ]
  },
  {
   "cell_type": "markdown",
   "metadata": {
    "deletable": true,
    "editable": true
   },
   "source": [
    "## Build the network\n",
    "For the neural network, you'll build each layer into a function.  Most of the code you've seen has been outside of functions. To test your code more thoroughly, we require that you put each layer in a function.  This allows us to give you better feedback and test for simple mistakes using our unittests before you submit your project.\n",
    "\n",
    ">**Note:** If you're finding it hard to dedicate enough time for this course each week, we've provided a small shortcut to this part of the project. In the next couple of problems, you'll have the option to use classes from the [TensorFlow Layers](https://www.tensorflow.org/api_docs/python/tf/layers) or [TensorFlow Layers (contrib)](https://www.tensorflow.org/api_guides/python/contrib.layers) packages to build each layer, except the layers you build in the \"Convolutional and Max Pooling Layer\" section.  TF Layers is similar to Keras's and TFLearn's abstraction to layers, so it's easy to pickup.\n",
    "\n",
    ">However, if you would like to get the most out of this course, try to solve all the problems _without_ using anything from the TF Layers packages. You **can** still use classes from other packages that happen to have the same name as ones you find in TF Layers! For example, instead of using the TF Layers version of the `conv2d` class, [tf.layers.conv2d](https://www.tensorflow.org/api_docs/python/tf/layers/conv2d), you would want to use the TF Neural Network version of `conv2d`, [tf.nn.conv2d](https://www.tensorflow.org/api_docs/python/tf/nn/conv2d). \n",
    "\n",
    "Let's begin!\n",
    "\n",
    "### Input\n",
    "The neural network needs to read the image data, one-hot encoded labels, and dropout keep probability. Implement the following functions\n",
    "* Implement `neural_net_image_input`\n",
    " * Return a [TF Placeholder](https://www.tensorflow.org/api_docs/python/tf/placeholder)\n",
    " * Set the shape using `image_shape` with batch size set to `None`.\n",
    " * Name the TensorFlow placeholder \"x\" using the TensorFlow `name` parameter in the [TF Placeholder](https://www.tensorflow.org/api_docs/python/tf/placeholder).\n",
    "* Implement `neural_net_label_input`\n",
    " * Return a [TF Placeholder](https://www.tensorflow.org/api_docs/python/tf/placeholder)\n",
    " * Set the shape using `n_classes` with batch size set to `None`.\n",
    " * Name the TensorFlow placeholder \"y\" using the TensorFlow `name` parameter in the [TF Placeholder](https://www.tensorflow.org/api_docs/python/tf/placeholder).\n",
    "* Implement `neural_net_keep_prob_input`\n",
    " * Return a [TF Placeholder](https://www.tensorflow.org/api_docs/python/tf/placeholder) for dropout keep probability.\n",
    " * Name the TensorFlow placeholder \"keep_prob\" using the TensorFlow `name` parameter in the [TF Placeholder](https://www.tensorflow.org/api_docs/python/tf/placeholder).\n",
    "\n",
    "These names will be used at the end of the project to load your saved model.\n",
    "\n",
    "Note: `None` for shapes in TensorFlow allow for a dynamic size."
   ]
  },
  {
   "cell_type": "code",
   "execution_count": 7,
   "metadata": {
    "collapsed": false,
    "deletable": true,
    "editable": true
   },
   "outputs": [
    {
     "name": "stdout",
     "output_type": "stream",
     "text": [
      "Image Input Tests Passed.\n",
      "Label Input Tests Passed.\n",
      "Keep Prob Tests Passed.\n"
     ]
    }
   ],
   "source": [
    "import tensorflow as tf\n",
    "\n",
    "def neural_net_image_input(image_shape):\n",
    "    \"\"\"\n",
    "    Return a Tensor for a batch of image input\n",
    "    : image_shape: Shape of the images\n",
    "    : return: Tensor for image input.\n",
    "    \"\"\"\n",
    "    return tf.placeholder(tf.float32, shape=(None, image_shape[0], image_shape[1], image_shape[2]), name=\"x\")\n",
    "\n",
    "\n",
    "def neural_net_label_input(n_classes):\n",
    "    \"\"\"\n",
    "    Return a Tensor for a batch of label input\n",
    "    : n_classes: Number of classes\n",
    "    : return: Tensor for label input.\n",
    "    \"\"\"\n",
    "    return tf.placeholder(tf.float32, shape=(None, n_classes), name=\"y\")\n",
    "\n",
    "\n",
    "def neural_net_keep_prob_input():\n",
    "    \"\"\"\n",
    "    Return a Tensor for keep probability\n",
    "    : return: Tensor for keep probability.\n",
    "    \"\"\"\n",
    "    return tf.placeholder(tf.float32, name=\"keep_prob\")\n",
    "\n",
    "\n",
    "\"\"\"\n",
    "DON'T MODIFY ANYTHING IN THIS CELL THAT IS BELOW THIS LINE\n",
    "\"\"\"\n",
    "tf.reset_default_graph()\n",
    "tests.test_nn_image_inputs(neural_net_image_input)\n",
    "tests.test_nn_label_inputs(neural_net_label_input)\n",
    "tests.test_nn_keep_prob_inputs(neural_net_keep_prob_input)"
   ]
  },
  {
   "cell_type": "markdown",
   "metadata": {
    "deletable": true,
    "editable": true
   },
   "source": [
    "### Convolution and Max Pooling Layer\n",
    "Convolution layers have a lot of success with images. For this code cell, you should implement the function `conv2d_maxpool` to apply convolution then max pooling:\n",
    "* Create the weight and bias using `conv_ksize`, `conv_num_outputs` and the shape of `x_tensor`.\n",
    "* Apply a convolution to `x_tensor` using weight and `conv_strides`.\n",
    " * We recommend you use same padding, but you're welcome to use any padding.\n",
    "* Add bias\n",
    "* Add a nonlinear activation to the convolution.\n",
    "* Apply Max Pooling using `pool_ksize` and `pool_strides`.\n",
    " * We recommend you use same padding, but you're welcome to use any padding.\n",
    "\n",
    "**Note:** You **can't** use [TensorFlow Layers](https://www.tensorflow.org/api_docs/python/tf/layers) or [TensorFlow Layers (contrib)](https://www.tensorflow.org/api_guides/python/contrib.layers) for **this** layer, but you can still use TensorFlow's [Neural Network](https://www.tensorflow.org/api_docs/python/tf/nn) package. You may still use the shortcut option for all the **other** layers."
   ]
  },
  {
   "cell_type": "code",
   "execution_count": 8,
   "metadata": {
    "collapsed": false,
    "deletable": true,
    "editable": true
   },
   "outputs": [
    {
     "name": "stdout",
     "output_type": "stream",
     "text": [
      "Tests Passed\n"
     ]
    }
   ],
   "source": [
    "def conv2d_maxpool(x_tensor, conv_num_outputs, conv_ksize, conv_strides, pool_ksize, pool_strides):\n",
    "    \"\"\"\n",
    "    Apply convolution then max pooling to x_tensor\n",
    "    :param x_tensor: TensorFlow Tensor\n",
    "    :param conv_num_outputs: Number of outputs for the convolutional layer\n",
    "    :param conv_ksize: kernal size 2-D Tuple for the convolutional layer\n",
    "    :param conv_strides: Stride 2-D Tuple for convolution\n",
    "    :param pool_ksize: kernal size 2-D Tuple for pool\n",
    "    :param pool_strides: Stride 2-D Tuple for pool\n",
    "    : return: A tensor that represents convolution and max pooling of x_tensor\n",
    "    \"\"\"\n",
    "    height = conv_ksize[0]\n",
    "    width = conv_ksize[1]\n",
    "    input_size = x_tensor.get_shape().as_list()[3]\n",
    "    stride = [1, conv_strides[0], conv_strides[1], 1]\n",
    "    max_pool_stride = [1, pool_strides[0], pool_strides[1], 1]\n",
    "    max_pool_ksize = [1, pool_ksize[0], pool_ksize[1], 1]\n",
    "\n",
    "    weight = tf.Variable(tf.truncated_normal([height, width, input_size, conv_num_outputs], stddev=0.01), name='weights')\n",
    "    bias = tf.Variable(tf.zeros(conv_num_outputs), name='biases')\n",
    "    padding = 'SAME'\n",
    "    \n",
    "    # CNN layer\n",
    "    conv = tf.nn.conv2d(x_tensor, weight, stride, padding) + bias\n",
    "        \n",
    "    # RELU layer\n",
    "    relu = tf.nn.relu(conv)\n",
    "    \n",
    "    # Max Pooling\n",
    "    return tf.nn.max_pool(relu, max_pool_ksize, max_pool_stride, padding)\n",
    "\n",
    "\n",
    "\"\"\"\n",
    "DON'T MODIFY ANYTHING IN THIS CELL THAT IS BELOW THIS LINE\n",
    "\"\"\"\n",
    "tests.test_con_pool(conv2d_maxpool)"
   ]
  },
  {
   "cell_type": "markdown",
   "metadata": {
    "deletable": true,
    "editable": true
   },
   "source": [
    "### Flatten Layer\n",
    "Implement the `flatten` function to change the dimension of `x_tensor` from a 4-D tensor to a 2-D tensor.  The output should be the shape (*Batch Size*, *Flattened Image Size*). Shortcut option: you can use classes from the [TensorFlow Layers](https://www.tensorflow.org/api_docs/python/tf/layers) or [TensorFlow Layers (contrib)](https://www.tensorflow.org/api_guides/python/contrib.layers) packages for this layer. For more of a challenge, only use other TensorFlow packages."
   ]
  },
  {
   "cell_type": "code",
   "execution_count": 9,
   "metadata": {
    "collapsed": false,
    "deletable": true,
    "editable": true
   },
   "outputs": [
    {
     "name": "stdout",
     "output_type": "stream",
     "text": [
      "Tests Passed\n"
     ]
    }
   ],
   "source": [
    "def flatten(x_tensor):\n",
    "    \"\"\"\n",
    "    Flatten x_tensor to (Batch Size, Flattened Image Size)\n",
    "    : x_tensor: A tensor of size (Batch Size, ...), where ... are the image dimensions.\n",
    "    : return: A tensor of size (Batch Size, Flattened Image Size).\n",
    "    \"\"\"\n",
    "    shape = x_tensor.get_shape().as_list()\n",
    "    return tf.reshape(x_tensor, shape=[tf.shape(x_tensor)[0], shape[1]*shape[2]*shape[3]], name='reshape')\n",
    "\n",
    "\n",
    "\"\"\"\n",
    "DON'T MODIFY ANYTHING IN THIS CELL THAT IS BELOW THIS LINE\n",
    "\"\"\"\n",
    "tests.test_flatten(flatten)"
   ]
  },
  {
   "cell_type": "markdown",
   "metadata": {
    "deletable": true,
    "editable": true
   },
   "source": [
    "### Fully-Connected Layer\n",
    "Implement the `fully_conn` function to apply a fully connected layer to `x_tensor` with the shape (*Batch Size*, *num_outputs*). Shortcut option: you can use classes from the [TensorFlow Layers](https://www.tensorflow.org/api_docs/python/tf/layers) or [TensorFlow Layers (contrib)](https://www.tensorflow.org/api_guides/python/contrib.layers) packages for this layer. For more of a challenge, only use other TensorFlow packages."
   ]
  },
  {
   "cell_type": "code",
   "execution_count": 10,
   "metadata": {
    "collapsed": false,
    "deletable": true,
    "editable": true
   },
   "outputs": [
    {
     "name": "stdout",
     "output_type": "stream",
     "text": [
      "Tests Passed\n"
     ]
    }
   ],
   "source": [
    "def fully_conn(x_tensor, num_outputs):\n",
    "    \"\"\"\n",
    "    Apply a fully connected layer to x_tensor using weight and bias\n",
    "    : x_tensor: A 2-D tensor where the first dimension is batch size.\n",
    "    : num_outputs: The number of output that the new tensor should be.\n",
    "    : return: A 2-D tensor where the second dimension is num_outputs.\n",
    "    \"\"\"\n",
    "    weight = tf.Variable(tf.truncated_normal([x_tensor.get_shape().as_list()[1], num_outputs], stddev=0.01), name='weights')\n",
    "    bias = tf.Variable(tf.zeros([num_outputs]), name='biases')\n",
    "\n",
    "    activation = tf.matmul(x_tensor, weight) + bias\n",
    "\n",
    "    return tf.nn.relu(activation)\n",
    "\n",
    "\n",
    "\"\"\"\n",
    "DON'T MODIFY ANYTHING IN THIS CELL THAT IS BELOW THIS LINE\n",
    "\"\"\"\n",
    "tests.test_fully_conn(fully_conn)"
   ]
  },
  {
   "cell_type": "markdown",
   "metadata": {
    "deletable": true,
    "editable": true
   },
   "source": [
    "### Output Layer\n",
    "Implement the `output` function to apply a fully connected layer to `x_tensor` with the shape (*Batch Size*, *num_outputs*). Shortcut option: you can use classes from the [TensorFlow Layers](https://www.tensorflow.org/api_docs/python/tf/layers) or [TensorFlow Layers (contrib)](https://www.tensorflow.org/api_guides/python/contrib.layers) packages for this layer. For more of a challenge, only use other TensorFlow packages.\n",
    "\n",
    "**Note:** Activation, softmax, or cross entropy should **not** be applied to this."
   ]
  },
  {
   "cell_type": "code",
   "execution_count": 11,
   "metadata": {
    "collapsed": false,
    "deletable": true,
    "editable": true
   },
   "outputs": [
    {
     "name": "stdout",
     "output_type": "stream",
     "text": [
      "Tests Passed\n"
     ]
    }
   ],
   "source": [
    "def output(x_tensor, num_outputs):\n",
    "    \"\"\"\n",
    "    Apply a output layer to x_tensor using weight and bias\n",
    "    : x_tensor: A 2-D tensor where the first dimension is batch size.\n",
    "    : num_outputs: The number of output that the new tensor should be.\n",
    "    : return: A 2-D tensor where the second dimension is num_outputs.\n",
    "    \"\"\"\n",
    "\n",
    "    weight = tf.Variable(tf.truncated_normal([x_tensor.get_shape().as_list()[1], num_outputs], stddev=0.01), name='weights')\n",
    "    bias = tf.Variable(tf.zeros([num_outputs]), name='biases')\n",
    "\n",
    "    return tf.matmul(x_tensor, weight) + bias\n",
    "\n",
    "\"\"\"\n",
    "DON'T MODIFY ANYTHING IN THIS CELL THAT IS BELOW THIS LINE\n",
    "\"\"\"\n",
    "tests.test_output(output)"
   ]
  },
  {
   "cell_type": "markdown",
   "metadata": {
    "deletable": true,
    "editable": true
   },
   "source": [
    "### Create Convolutional Model\n",
    "Implement the function `conv_net` to create a convolutional neural network model. The function takes in a batch of images, `x`, and outputs logits.  Use the layers you created above to create this model:\n",
    "\n",
    "* Apply 1, 2, or 3 Convolution and Max Pool layers\n",
    "* Apply a Flatten Layer\n",
    "* Apply 1, 2, or 3 Fully Connected Layers\n",
    "* Apply an Output Layer\n",
    "* Return the output\n",
    "* Apply [TensorFlow's Dropout](https://www.tensorflow.org/api_docs/python/tf/nn/dropout) to one or more layers in the model using `keep_prob`. "
   ]
  },
  {
   "cell_type": "code",
   "execution_count": 38,
   "metadata": {
    "collapsed": false,
    "deletable": true,
    "editable": true
   },
   "outputs": [
    {
     "name": "stdout",
     "output_type": "stream",
     "text": [
      "Neural Network Built!\n"
     ]
    }
   ],
   "source": [
    "def conv_net(x, keep_prob):\n",
    "    \"\"\"\n",
    "    Create a convolutional neural network model\n",
    "    : x: Placeholder tensor that holds image data.\n",
    "    : keep_prob: Placeholder tensor that hold dropout keep probability.\n",
    "    : return: Tensor that represents logits\n",
    "    \"\"\"\n",
    "    # Apply 1, 2, or 3 Convolution and Max Pool layers\n",
    "    #    Play around with different number of outputs, kernel size and stride\n",
    "    # Function Definition from Above:\n",
    "    conv_num_outputs = 100\n",
    "    conv_ksize = [2, 2]\n",
    "    conv_strides = [2, 2]\n",
    "    pool_ksize = [2, 2]\n",
    "    pool_strides = [2, 2]\n",
    "    \n",
    "    model = conv2d_maxpool(x, conv_num_outputs, conv_ksize, conv_strides, pool_ksize, pool_strides)\n",
    "\n",
    "    # Apply a Flatten Layer\n",
    "    model = flatten(model)\n",
    "\n",
    "    model = tf.nn.dropout(model, keep_prob)\n",
    "\n",
    "    # TODO: Apply 1, 2, or 3 Fully Connected Layers\n",
    "    #    Play around with different number of outputs\n",
    "    # Function Definition from Above:\n",
    "    model = fully_conn(model, 2000)\n",
    "\n",
    "\n",
    "    # TODO: Apply an Output Layer\n",
    "    #    Set this to the number of classes\n",
    "    # Function Definition from Above:\n",
    "    model = output(model, 10)\n",
    "    \n",
    "    # TODO: return output\n",
    "    return model\n",
    "\n",
    "\n",
    "\"\"\"\n",
    "DON'T MODIFY ANYTHING IN THIS CELL THAT IS BELOW THIS LINE\n",
    "\"\"\"\n",
    "\n",
    "##############################\n",
    "## Build the Neural Network ##\n",
    "##############################\n",
    "\n",
    "# Remove previous weights, bias, inputs, etc..\n",
    "tf.reset_default_graph()\n",
    "\n",
    "# Inputs\n",
    "x = neural_net_image_input((32, 32, 3))\n",
    "y = neural_net_label_input(10)\n",
    "keep_prob = neural_net_keep_prob_input()\n",
    "\n",
    "# Model\n",
    "logits = conv_net(x, keep_prob)\n",
    "\n",
    "# Name logits Tensor, so that is can be loaded from disk after training\n",
    "logits = tf.identity(logits, name='logits')\n",
    "\n",
    "# Loss and Optimizer\n",
    "cost = tf.reduce_mean(tf.nn.softmax_cross_entropy_with_logits(logits=logits, labels=y))\n",
    "optimizer = tf.train.AdamOptimizer().minimize(cost)\n",
    "\n",
    "# Accuracy\n",
    "correct_pred = tf.equal(tf.argmax(logits, 1), tf.argmax(y, 1))\n",
    "accuracy = tf.reduce_mean(tf.cast(correct_pred, tf.float32), name='accuracy')\n",
    "\n",
    "tests.test_conv_net(conv_net)"
   ]
  },
  {
   "cell_type": "markdown",
   "metadata": {
    "deletable": true,
    "editable": true
   },
   "source": [
    "## Train the Neural Network\n",
    "### Single Optimization\n",
    "Implement the function `train_neural_network` to do a single optimization.  The optimization should use `optimizer` to optimize in `session` with a `feed_dict` of the following:\n",
    "* `x` for image input\n",
    "* `y` for labels\n",
    "* `keep_prob` for keep probability for dropout\n",
    "\n",
    "This function will be called for each batch, so `tf.global_variables_initializer()` has already been called.\n",
    "\n",
    "Note: Nothing needs to be returned. This function is only optimizing the neural network."
   ]
  },
  {
   "cell_type": "code",
   "execution_count": 13,
   "metadata": {
    "collapsed": false,
    "deletable": true,
    "editable": true
   },
   "outputs": [
    {
     "name": "stdout",
     "output_type": "stream",
     "text": [
      "Tests Passed\n"
     ]
    }
   ],
   "source": [
    "def train_neural_network(session, optimizer, keep_probability, feature_batch, label_batch):\n",
    "    \"\"\"\n",
    "    Optimize the session on a batch of images and labels\n",
    "    : session: Current TensorFlow session\n",
    "    : optimizer: TensorFlow optimizer function\n",
    "    : keep_probability: keep probability\n",
    "    : feature_batch: Batch of Numpy image data\n",
    "    : label_batch: Batch of Numpy label data\n",
    "    \"\"\"\n",
    "    # TODO: Implement Function\n",
    "    session.run(optimizer, feed_dict={x: feature_batch, y: label_batch, keep_prob: keep_probability})\n",
    "\n",
    "\"\"\"\n",
    "DON'T MODIFY ANYTHING IN THIS CELL THAT IS BELOW THIS LINE\n",
    "\"\"\"\n",
    "tests.test_train_nn(train_neural_network)"
   ]
  },
  {
   "cell_type": "markdown",
   "metadata": {
    "deletable": true,
    "editable": true
   },
   "source": [
    "### Show Stats\n",
    "Implement the function `print_stats` to print loss and validation accuracy.  Use the global variables `valid_features` and `valid_labels` to calculate validation accuracy.  Use a keep probability of `1.0` to calculate the loss and validation accuracy."
   ]
  },
  {
   "cell_type": "code",
   "execution_count": 14,
   "metadata": {
    "collapsed": false,
    "deletable": true,
    "editable": true
   },
   "outputs": [],
   "source": [
    "def print_stats(session, feature_batch, label_batch, cost, accuracy):\n",
    "    \"\"\"\n",
    "    Print information about loss and validation accuracy\n",
    "    : session: Current TensorFlow session\n",
    "    : feature_batch: Batch of Numpy image data\n",
    "    : label_batch: Batch of Numpy label data\n",
    "    : cost: TensorFlow cost function\n",
    "    : accuracy: TensorFlow accuracy function\n",
    "    \"\"\"\n",
    "    accuracy_value = session.run(accuracy, feed_dict = {x: valid_features, y: valid_labels, keep_prob: 1.0})\n",
    "    cost_value = session.run(cost, feed_dict = {x: feature_batch, y: label_batch, keep_prob: 1.0})\n",
    "\n",
    "    print('Accuracy: {} - Cost: {}'.format(accuracy_value, cost_value))\n",
    "\n",
    "    "
   ]
  },
  {
   "cell_type": "markdown",
   "metadata": {
    "deletable": true,
    "editable": true
   },
   "source": [
    "### Hyperparameters\n",
    "Tune the following parameters:\n",
    "* Set `epochs` to the number of iterations until the network stops learning or start overfitting\n",
    "* Set `batch_size` to the highest number that your machine has memory for.  Most people set them to common sizes of memory:\n",
    " * 64\n",
    " * 128\n",
    " * 256\n",
    " * ...\n",
    "* Set `keep_probability` to the probability of keeping a node using dropout"
   ]
  },
  {
   "cell_type": "code",
   "execution_count": 42,
   "metadata": {
    "collapsed": true,
    "deletable": true,
    "editable": true
   },
   "outputs": [],
   "source": [
    "# TODO: Tune Parameters\n",
    "epochs = 30\n",
    "batch_size = 256*2\n",
    "keep_probability = 0.5"
   ]
  },
  {
   "cell_type": "markdown",
   "metadata": {
    "deletable": true,
    "editable": true
   },
   "source": [
    "### Train on a Single CIFAR-10 Batch\n",
    "Instead of training the neural network on all the CIFAR-10 batches of data, let's use a single batch. This should save time while you iterate on the model to get a better accuracy.  Once the final validation accuracy is 50% or greater, run the model on all the data in the next section."
   ]
  },
  {
   "cell_type": "code",
   "execution_count": 43,
   "metadata": {
    "collapsed": false,
    "deletable": true,
    "editable": true
   },
   "outputs": [
    {
     "name": "stdout",
     "output_type": "stream",
     "text": [
      "Checking the Training on a Single Batch...\n",
      "Epoch  1, CIFAR-10 Batch 1:  Accuracy: 0.25439998507499695 - Cost: 2.0573580265045166\n",
      "Epoch  2, CIFAR-10 Batch 1:  Accuracy: 0.32419994473457336 - Cost: 1.9583479166030884\n",
      "Epoch  3, CIFAR-10 Batch 1:  Accuracy: 0.3639999330043793 - Cost: 1.8275316953659058\n",
      "Epoch  4, CIFAR-10 Batch 1:  Accuracy: 0.38899996876716614 - Cost: 1.7364317178726196\n",
      "Epoch  5, CIFAR-10 Batch 1:  Accuracy: 0.4209999442100525 - Cost: 1.6615386009216309\n",
      "Epoch  6, CIFAR-10 Batch 1:  Accuracy: 0.44579994678497314 - Cost: 1.5684168338775635\n",
      "Epoch  7, CIFAR-10 Batch 1:  Accuracy: 0.4646000266075134 - Cost: 1.5041251182556152\n",
      "Epoch  8, CIFAR-10 Batch 1:  Accuracy: 0.47839996218681335 - Cost: 1.4364259243011475\n",
      "Epoch  9, CIFAR-10 Batch 1:  Accuracy: 0.491599977016449 - Cost: 1.3743007183074951\n",
      "Epoch 10, CIFAR-10 Batch 1:  Accuracy: 0.5055999755859375 - Cost: 1.3229316473007202\n",
      "Epoch 11, CIFAR-10 Batch 1:  Accuracy: 0.5115999579429626 - Cost: 1.2963706254959106\n",
      "Epoch 12, CIFAR-10 Batch 1:  Accuracy: 0.5199999809265137 - Cost: 1.2416653633117676\n",
      "Epoch 13, CIFAR-10 Batch 1:  Accuracy: 0.5215999484062195 - Cost: 1.2088953256607056\n",
      "Epoch 14, CIFAR-10 Batch 1:  Accuracy: 0.5297999382019043 - Cost: 1.1685200929641724\n",
      "Epoch 15, CIFAR-10 Batch 1:  Accuracy: 0.5301999449729919 - Cost: 1.1392462253570557\n",
      "Epoch 16, CIFAR-10 Batch 1:  Accuracy: 0.5329999923706055 - Cost: 1.1309703588485718\n",
      "Epoch 17, CIFAR-10 Batch 1:  Accuracy: 0.5401999354362488 - Cost: 1.0600097179412842\n",
      "Epoch 18, CIFAR-10 Batch 1:  Accuracy: 0.5388000011444092 - Cost: 1.0397237539291382\n",
      "Epoch 19, CIFAR-10 Batch 1:  Accuracy: 0.5447999835014343 - Cost: 1.0175927877426147\n",
      "Epoch 20, CIFAR-10 Batch 1:  Accuracy: 0.5443999171257019 - Cost: 0.9786033630371094\n",
      "Epoch 21, CIFAR-10 Batch 1:  Accuracy: 0.5509999394416809 - Cost: 0.9417644739151001\n",
      "Epoch 22, CIFAR-10 Batch 1:  Accuracy: 0.5469999313354492 - Cost: 0.9162298440933228\n",
      "Epoch 23, CIFAR-10 Batch 1:  Accuracy: 0.5517998933792114 - Cost: 0.8871718049049377\n",
      "Epoch 24, CIFAR-10 Batch 1:  Accuracy: 0.5533999800682068 - Cost: 0.8467003107070923\n",
      "Epoch 25, CIFAR-10 Batch 1:  Accuracy: 0.5559999346733093 - Cost: 0.8115988969802856\n",
      "Epoch 26, CIFAR-10 Batch 1:  Accuracy: 0.5577999353408813 - Cost: 0.7941868901252747\n",
      "Epoch 27, CIFAR-10 Batch 1:  Accuracy: 0.556399941444397 - Cost: 0.7555018663406372\n",
      "Epoch 28, CIFAR-10 Batch 1:  Accuracy: 0.561799943447113 - Cost: 0.711355447769165\n",
      "Epoch 29, CIFAR-10 Batch 1:  Accuracy: 0.5663999319076538 - Cost: 0.6861635446548462\n",
      "Epoch 30, CIFAR-10 Batch 1:  Accuracy: 0.5643999576568604 - Cost: 0.6560608744621277\n"
     ]
    }
   ],
   "source": [
    "\"\"\"\n",
    "DON'T MODIFY ANYTHING IN THIS CELL\n",
    "\"\"\"\n",
    "print('Checking the Training on a Single Batch...')\n",
    "with tf.Session() as sess:\n",
    "    # Initializing the variables\n",
    "    sess.run(tf.global_variables_initializer())\n",
    "    \n",
    "    # Training cycle\n",
    "    for epoch in range(epochs):\n",
    "        batch_i = 1\n",
    "        for batch_features, batch_labels in helper.load_preprocess_training_batch(batch_i, batch_size):\n",
    "            train_neural_network(sess, optimizer, keep_probability, batch_features, batch_labels)\n",
    "        print('Epoch {:>2}, CIFAR-10 Batch {}:  '.format(epoch + 1, batch_i), end='')\n",
    "        print_stats(sess, batch_features, batch_labels, cost, accuracy)"
   ]
  },
  {
   "cell_type": "markdown",
   "metadata": {
    "deletable": true,
    "editable": true
   },
   "source": [
    "### Fully Train the Model\n",
    "Now that you got a good accuracy with a single CIFAR-10 batch, try it with all five batches."
   ]
  },
  {
   "cell_type": "code",
   "execution_count": 44,
   "metadata": {
    "collapsed": false,
    "deletable": true,
    "editable": true
   },
   "outputs": [
    {
     "name": "stdout",
     "output_type": "stream",
     "text": [
      "Training...\n",
      "Epoch  1, CIFAR-10 Batch 1:  Accuracy: 0.2557999789714813 - Cost: 2.0613319873809814\n",
      "Epoch  1, CIFAR-10 Batch 2:  Accuracy: 0.30480000376701355 - Cost: 1.8789260387420654\n",
      "Epoch  1, CIFAR-10 Batch 3:  Accuracy: 0.3391999900341034 - Cost: 1.7060604095458984\n",
      "Epoch  1, CIFAR-10 Batch 4:  Accuracy: 0.394599974155426 - Cost: 1.6397055387496948\n",
      "Epoch  1, CIFAR-10 Batch 5:  Accuracy: 0.4132000207901001 - Cost: 1.636227011680603\n",
      "Epoch  2, CIFAR-10 Batch 1:  Accuracy: 0.429999977350235 - Cost: 1.6412838697433472\n",
      "Epoch  2, CIFAR-10 Batch 2:  Accuracy: 0.45879998803138733 - Cost: 1.5002796649932861\n",
      "Epoch  2, CIFAR-10 Batch 3:  Accuracy: 0.4549999535083771 - Cost: 1.336584448814392\n",
      "Epoch  2, CIFAR-10 Batch 4:  Accuracy: 0.48159995675086975 - Cost: 1.3688997030258179\n",
      "Epoch  2, CIFAR-10 Batch 5:  Accuracy: 0.4923999607563019 - Cost: 1.4025760889053345\n",
      "Epoch  3, CIFAR-10 Batch 1:  Accuracy: 0.5057999491691589 - Cost: 1.4714261293411255\n",
      "Epoch  3, CIFAR-10 Batch 2:  Accuracy: 0.5131999254226685 - Cost: 1.2978523969650269\n",
      "Epoch  3, CIFAR-10 Batch 3:  Accuracy: 0.5027999877929688 - Cost: 1.2074946165084839\n",
      "Epoch  3, CIFAR-10 Batch 4:  Accuracy: 0.5299999713897705 - Cost: 1.2192158699035645\n",
      "Epoch  3, CIFAR-10 Batch 5:  Accuracy: 0.5305999517440796 - Cost: 1.2767910957336426\n",
      "Epoch  4, CIFAR-10 Batch 1:  Accuracy: 0.5395999550819397 - Cost: 1.3707466125488281\n",
      "Epoch  4, CIFAR-10 Batch 2:  Accuracy: 0.5443999171257019 - Cost: 1.1902661323547363\n",
      "Epoch  4, CIFAR-10 Batch 3:  Accuracy: 0.5331999659538269 - Cost: 1.1293333768844604\n",
      "Epoch  4, CIFAR-10 Batch 4:  Accuracy: 0.5521999597549438 - Cost: 1.1344261169433594\n",
      "Epoch  4, CIFAR-10 Batch 5:  Accuracy: 0.545799970626831 - Cost: 1.2049756050109863\n",
      "Epoch  5, CIFAR-10 Batch 1:  Accuracy: 0.5561999082565308 - Cost: 1.3092814683914185\n",
      "Epoch  5, CIFAR-10 Batch 2:  Accuracy: 0.5519999265670776 - Cost: 1.1278733015060425\n",
      "Epoch  5, CIFAR-10 Batch 3:  Accuracy: 0.5483999252319336 - Cost: 1.0937092304229736\n",
      "Epoch  5, CIFAR-10 Batch 4:  Accuracy: 0.5649999380111694 - Cost: 1.0852477550506592\n",
      "Epoch  5, CIFAR-10 Batch 5:  Accuracy: 0.5621999502182007 - Cost: 1.1322187185287476\n",
      "Epoch  6, CIFAR-10 Batch 1:  Accuracy: 0.5685999393463135 - Cost: 1.244005799293518\n",
      "Epoch  6, CIFAR-10 Batch 2:  Accuracy: 0.5665999054908752 - Cost: 1.0514943599700928\n",
      "Epoch  6, CIFAR-10 Batch 3:  Accuracy: 0.5687999129295349 - Cost: 1.0300097465515137\n",
      "Epoch  6, CIFAR-10 Batch 4:  Accuracy: 0.5771999359130859 - Cost: 1.0217034816741943\n",
      "Epoch  6, CIFAR-10 Batch 5:  Accuracy: 0.5739999413490295 - Cost: 1.0606434345245361\n",
      "Epoch  7, CIFAR-10 Batch 1:  Accuracy: 0.578999936580658 - Cost: 1.1572563648223877\n",
      "Epoch  7, CIFAR-10 Batch 2:  Accuracy: 0.5775999426841736 - Cost: 1.0015020370483398\n",
      "Epoch  7, CIFAR-10 Batch 3:  Accuracy: 0.579599916934967 - Cost: 0.9863314628601074\n",
      "Epoch  7, CIFAR-10 Batch 4:  Accuracy: 0.5849999189376831 - Cost: 0.9778071641921997\n",
      "Epoch  7, CIFAR-10 Batch 5:  Accuracy: 0.5897998809814453 - Cost: 1.0022258758544922\n",
      "Epoch  8, CIFAR-10 Batch 1:  Accuracy: 0.5867998600006104 - Cost: 1.106865406036377\n",
      "Epoch  8, CIFAR-10 Batch 2:  Accuracy: 0.5875999331474304 - Cost: 0.9573373794555664\n",
      "Epoch  8, CIFAR-10 Batch 3:  Accuracy: 0.5863999128341675 - Cost: 0.9428672790527344\n",
      "Epoch  8, CIFAR-10 Batch 4:  Accuracy: 0.5949999690055847 - Cost: 0.9257738590240479\n",
      "Epoch  8, CIFAR-10 Batch 5:  Accuracy: 0.5989999175071716 - Cost: 0.9588062167167664\n",
      "Epoch  9, CIFAR-10 Batch 1:  Accuracy: 0.6065999269485474 - Cost: 1.0594359636306763\n",
      "Epoch  9, CIFAR-10 Batch 2:  Accuracy: 0.5913999080657959 - Cost: 0.9217183589935303\n",
      "Epoch  9, CIFAR-10 Batch 3:  Accuracy: 0.5977999567985535 - Cost: 0.8929601907730103\n",
      "Epoch  9, CIFAR-10 Batch 4:  Accuracy: 0.6061999201774597 - Cost: 0.8657079935073853\n",
      "Epoch  9, CIFAR-10 Batch 5:  Accuracy: 0.6135998964309692 - Cost: 0.8947898745536804\n",
      "Epoch 10, CIFAR-10 Batch 1:  Accuracy: 0.613399863243103 - Cost: 0.9789711236953735\n",
      "Epoch 10, CIFAR-10 Batch 2:  Accuracy: 0.6031998991966248 - Cost: 0.8800368309020996\n",
      "Epoch 10, CIFAR-10 Batch 3:  Accuracy: 0.602199912071228 - Cost: 0.8615463376045227\n",
      "Epoch 10, CIFAR-10 Batch 4:  Accuracy: 0.6135998964309692 - Cost: 0.8237266540527344\n",
      "Epoch 10, CIFAR-10 Batch 5:  Accuracy: 0.6115999221801758 - Cost: 0.8545023202896118\n",
      "Epoch 11, CIFAR-10 Batch 1:  Accuracy: 0.6233998537063599 - Cost: 0.9323405027389526\n",
      "Epoch 11, CIFAR-10 Batch 2:  Accuracy: 0.6101999282836914 - Cost: 0.8395843505859375\n",
      "Epoch 11, CIFAR-10 Batch 3:  Accuracy: 0.6187999248504639 - Cost: 0.7922990322113037\n",
      "Epoch 11, CIFAR-10 Batch 4:  Accuracy: 0.6241999268531799 - Cost: 0.774468719959259\n",
      "Epoch 11, CIFAR-10 Batch 5:  Accuracy: 0.6173999309539795 - Cost: 0.8049471378326416\n",
      "Epoch 12, CIFAR-10 Batch 1:  Accuracy: 0.6269998550415039 - Cost: 0.8913531303405762\n",
      "Epoch 12, CIFAR-10 Batch 2:  Accuracy: 0.6091998815536499 - Cost: 0.7897279262542725\n",
      "Epoch 12, CIFAR-10 Batch 3:  Accuracy: 0.6145999431610107 - Cost: 0.7698583602905273\n",
      "Epoch 12, CIFAR-10 Batch 4:  Accuracy: 0.6303998827934265 - Cost: 0.7300058603286743\n",
      "Epoch 12, CIFAR-10 Batch 5:  Accuracy: 0.621199905872345 - Cost: 0.7521572113037109\n",
      "Epoch 13, CIFAR-10 Batch 1:  Accuracy: 0.6203998923301697 - Cost: 0.8375809192657471\n",
      "Epoch 13, CIFAR-10 Batch 2:  Accuracy: 0.6123999357223511 - Cost: 0.7517852187156677\n",
      "Epoch 13, CIFAR-10 Batch 3:  Accuracy: 0.621199905872345 - Cost: 0.7427166700363159\n",
      "Epoch 13, CIFAR-10 Batch 4:  Accuracy: 0.6371999382972717 - Cost: 0.6867263317108154\n",
      "Epoch 13, CIFAR-10 Batch 5:  Accuracy: 0.6209998726844788 - Cost: 0.7129470109939575\n",
      "Epoch 14, CIFAR-10 Batch 1:  Accuracy: 0.627799928188324 - Cost: 0.7929114103317261\n",
      "Epoch 14, CIFAR-10 Batch 2:  Accuracy: 0.6253999471664429 - Cost: 0.7132872343063354\n",
      "Epoch 14, CIFAR-10 Batch 3:  Accuracy: 0.619999885559082 - Cost: 0.7045320868492126\n",
      "Epoch 14, CIFAR-10 Batch 4:  Accuracy: 0.6343998908996582 - Cost: 0.6403579711914062\n",
      "Epoch 14, CIFAR-10 Batch 5:  Accuracy: 0.6373998522758484 - Cost: 0.6675865054130554\n",
      "Epoch 15, CIFAR-10 Batch 1:  Accuracy: 0.6335998773574829 - Cost: 0.7379390597343445\n",
      "Epoch 15, CIFAR-10 Batch 2:  Accuracy: 0.619999885559082 - Cost: 0.7112967371940613\n",
      "Epoch 15, CIFAR-10 Batch 3:  Accuracy: 0.6325998902320862 - Cost: 0.6581782698631287\n",
      "Epoch 15, CIFAR-10 Batch 4:  Accuracy: 0.6365998983383179 - Cost: 0.5979666709899902\n",
      "Epoch 15, CIFAR-10 Batch 5:  Accuracy: 0.6373999118804932 - Cost: 0.6132627725601196\n",
      "Epoch 16, CIFAR-10 Batch 1:  Accuracy: 0.6355999112129211 - Cost: 0.6781272292137146\n",
      "Epoch 16, CIFAR-10 Batch 2:  Accuracy: 0.6345999240875244 - Cost: 0.670413076877594\n",
      "Epoch 16, CIFAR-10 Batch 3:  Accuracy: 0.6379998922348022 - Cost: 0.6217969655990601\n",
      "Epoch 16, CIFAR-10 Batch 4:  Accuracy: 0.6341999173164368 - Cost: 0.5688346028327942\n",
      "Epoch 16, CIFAR-10 Batch 5:  Accuracy: 0.6393998861312866 - Cost: 0.5774268507957458\n",
      "Epoch 17, CIFAR-10 Batch 1:  Accuracy: 0.6393998861312866 - Cost: 0.6300584077835083\n",
      "Epoch 17, CIFAR-10 Batch 2:  Accuracy: 0.6379998922348022 - Cost: 0.6270861625671387\n",
      "Epoch 17, CIFAR-10 Batch 3:  Accuracy: 0.6471999287605286 - Cost: 0.5627148151397705\n",
      "Epoch 17, CIFAR-10 Batch 4:  Accuracy: 0.6471998691558838 - Cost: 0.5182765126228333\n",
      "Epoch 17, CIFAR-10 Batch 5:  Accuracy: 0.6457998752593994 - Cost: 0.5305256247520447\n",
      "Epoch 18, CIFAR-10 Batch 1:  Accuracy: 0.6433999538421631 - Cost: 0.5819151997566223\n",
      "Epoch 18, CIFAR-10 Batch 2:  Accuracy: 0.6487998962402344 - Cost: 0.5766646265983582\n",
      "Epoch 18, CIFAR-10 Batch 3:  Accuracy: 0.6463998556137085 - Cost: 0.5288312435150146\n",
      "Epoch 18, CIFAR-10 Batch 4:  Accuracy: 0.6505998969078064 - Cost: 0.49664172530174255\n",
      "Epoch 18, CIFAR-10 Batch 5:  Accuracy: 0.6515998840332031 - Cost: 0.49394819140434265\n",
      "Epoch 19, CIFAR-10 Batch 1:  Accuracy: 0.65559983253479 - Cost: 0.5302224159240723\n",
      "Epoch 19, CIFAR-10 Batch 2:  Accuracy: 0.6539998650550842 - Cost: 0.5287477374076843\n",
      "Epoch 19, CIFAR-10 Batch 3:  Accuracy: 0.6515998840332031 - Cost: 0.47567635774612427\n",
      "Epoch 19, CIFAR-10 Batch 4:  Accuracy: 0.6547998785972595 - Cost: 0.4337981641292572\n",
      "Epoch 19, CIFAR-10 Batch 5:  Accuracy: 0.6501998901367188 - Cost: 0.4621165096759796\n",
      "Epoch 20, CIFAR-10 Batch 1:  Accuracy: 0.6493999361991882 - Cost: 0.49332699179649353\n",
      "Epoch 20, CIFAR-10 Batch 2:  Accuracy: 0.6583998799324036 - Cost: 0.4948085844516754\n",
      "Epoch 20, CIFAR-10 Batch 3:  Accuracy: 0.6479998826980591 - Cost: 0.45400270819664\n",
      "Epoch 20, CIFAR-10 Batch 4:  Accuracy: 0.6557998657226562 - Cost: 0.4019838273525238\n",
      "Epoch 20, CIFAR-10 Batch 5:  Accuracy: 0.6587998867034912 - Cost: 0.4048515558242798\n",
      "Epoch 21, CIFAR-10 Batch 1:  Accuracy: 0.6541998982429504 - Cost: 0.44555604457855225\n",
      "Epoch 21, CIFAR-10 Batch 2:  Accuracy: 0.6575998663902283 - Cost: 0.4620862305164337\n",
      "Epoch 21, CIFAR-10 Batch 3:  Accuracy: 0.657599925994873 - Cost: 0.39951226115226746\n",
      "Epoch 21, CIFAR-10 Batch 4:  Accuracy: 0.6577998995780945 - Cost: 0.3594159185886383\n",
      "Epoch 21, CIFAR-10 Batch 5:  Accuracy: 0.6549999117851257 - Cost: 0.3867553770542145\n",
      "Epoch 22, CIFAR-10 Batch 1:  Accuracy: 0.6573998928070068 - Cost: 0.39347895979881287\n",
      "Epoch 22, CIFAR-10 Batch 2:  Accuracy: 0.6645998358726501 - Cost: 0.4187140464782715\n",
      "Epoch 22, CIFAR-10 Batch 3:  Accuracy: 0.6641998887062073 - Cost: 0.35346972942352295\n",
      "Epoch 22, CIFAR-10 Batch 4:  Accuracy: 0.6617999076843262 - Cost: 0.33331435918807983\n",
      "Epoch 22, CIFAR-10 Batch 5:  Accuracy: 0.6575998663902283 - Cost: 0.3455274701118469\n",
      "Epoch 23, CIFAR-10 Batch 1:  Accuracy: 0.654999852180481 - Cost: 0.35016757249832153\n",
      "Epoch 23, CIFAR-10 Batch 2:  Accuracy: 0.6603999137878418 - Cost: 0.3935748338699341\n",
      "Epoch 23, CIFAR-10 Batch 3:  Accuracy: 0.6653998494148254 - Cost: 0.3154977858066559\n",
      "Epoch 23, CIFAR-10 Batch 4:  Accuracy: 0.6581999063491821 - Cost: 0.29873761534690857\n",
      "Epoch 23, CIFAR-10 Batch 5:  Accuracy: 0.6581999659538269 - Cost: 0.3012217879295349\n",
      "Epoch 24, CIFAR-10 Batch 1:  Accuracy: 0.6589999198913574 - Cost: 0.3157764673233032\n",
      "Epoch 24, CIFAR-10 Batch 2:  Accuracy: 0.6609998941421509 - Cost: 0.36203768849372864\n",
      "Epoch 24, CIFAR-10 Batch 3:  Accuracy: 0.6657999157905579 - Cost: 0.27750319242477417\n",
      "Epoch 24, CIFAR-10 Batch 4:  Accuracy: 0.6515999436378479 - Cost: 0.26739445328712463\n",
      "Epoch 24, CIFAR-10 Batch 5:  Accuracy: 0.6599999070167542 - Cost: 0.269694447517395\n",
      "Epoch 25, CIFAR-10 Batch 1:  Accuracy: 0.6551999449729919 - Cost: 0.30048125982284546\n",
      "Epoch 25, CIFAR-10 Batch 2:  Accuracy: 0.6589998602867126 - Cost: 0.3237225413322449\n",
      "Epoch 25, CIFAR-10 Batch 3:  Accuracy: 0.6587998867034912 - Cost: 0.24784907698631287\n",
      "Epoch 25, CIFAR-10 Batch 4:  Accuracy: 0.6593999266624451 - Cost: 0.2410854697227478\n",
      "Epoch 25, CIFAR-10 Batch 5:  Accuracy: 0.658799946308136 - Cost: 0.23969583213329315\n",
      "Epoch 26, CIFAR-10 Batch 1:  Accuracy: 0.663399875164032 - Cost: 0.2557483911514282\n",
      "Epoch 26, CIFAR-10 Batch 2:  Accuracy: 0.6563999056816101 - Cost: 0.2949562668800354\n",
      "Epoch 26, CIFAR-10 Batch 3:  Accuracy: 0.6599999070167542 - Cost: 0.22235070168972015\n",
      "Epoch 26, CIFAR-10 Batch 4:  Accuracy: 0.6623998284339905 - Cost: 0.20865768194198608\n",
      "Epoch 26, CIFAR-10 Batch 5:  Accuracy: 0.6631998419761658 - Cost: 0.20224736630916595\n",
      "Epoch 27, CIFAR-10 Batch 1:  Accuracy: 0.6643998622894287 - Cost: 0.21933719515800476\n",
      "Epoch 27, CIFAR-10 Batch 2:  Accuracy: 0.6583998799324036 - Cost: 0.2561490535736084\n",
      "Epoch 27, CIFAR-10 Batch 3:  Accuracy: 0.6577998995780945 - Cost: 0.20027828216552734\n",
      "Epoch 27, CIFAR-10 Batch 4:  Accuracy: 0.6563999056816101 - Cost: 0.19647982716560364\n",
      "Epoch 27, CIFAR-10 Batch 5:  Accuracy: 0.6639999151229858 - Cost: 0.17712488770484924\n",
      "Epoch 28, CIFAR-10 Batch 1:  Accuracy: 0.6611998677253723 - Cost: 0.19248095154762268\n",
      "Epoch 28, CIFAR-10 Batch 2:  Accuracy: 0.6629998683929443 - Cost: 0.2381819486618042\n",
      "Epoch 28, CIFAR-10 Batch 3:  Accuracy: 0.6607998609542847 - Cost: 0.1769511103630066\n",
      "Epoch 28, CIFAR-10 Batch 4:  Accuracy: 0.6595999002456665 - Cost: 0.1702781766653061\n",
      "Epoch 28, CIFAR-10 Batch 5:  Accuracy: 0.6603999137878418 - Cost: 0.17022830247879028\n",
      "Epoch 29, CIFAR-10 Batch 1:  Accuracy: 0.6647998690605164 - Cost: 0.18196871876716614\n",
      "Epoch 29, CIFAR-10 Batch 2:  Accuracy: 0.6657999157905579 - Cost: 0.21611598134040833\n",
      "Epoch 29, CIFAR-10 Batch 3:  Accuracy: 0.66159987449646 - Cost: 0.1565835177898407\n",
      "Epoch 29, CIFAR-10 Batch 4:  Accuracy: 0.6519998908042908 - Cost: 0.15631993114948273\n",
      "Epoch 29, CIFAR-10 Batch 5:  Accuracy: 0.6611998677253723 - Cost: 0.1503836065530777\n",
      "Epoch 30, CIFAR-10 Batch 1:  Accuracy: 0.6623998880386353 - Cost: 0.1665617972612381\n",
      "Epoch 30, CIFAR-10 Batch 2:  Accuracy: 0.6649999022483826 - Cost: 0.19384260475635529\n",
      "Epoch 30, CIFAR-10 Batch 3:  Accuracy: 0.6597998738288879 - Cost: 0.13553348183631897\n",
      "Epoch 30, CIFAR-10 Batch 4:  Accuracy: 0.6521998643875122 - Cost: 0.14055703580379486\n",
      "Epoch 30, CIFAR-10 Batch 5:  Accuracy: 0.665199875831604 - Cost: 0.13024726510047913\n"
     ]
    }
   ],
   "source": [
    "\"\"\"\n",
    "DON'T MODIFY ANYTHING IN THIS CELL\n",
    "\"\"\"\n",
    "save_model_path = './image_classification'\n",
    "\n",
    "print('Training...')\n",
    "with tf.Session() as sess:\n",
    "    # Initializing the variables\n",
    "    sess.run(tf.global_variables_initializer())\n",
    "    \n",
    "    # Training cycle\n",
    "    for epoch in range(epochs):\n",
    "        # Loop over all batches\n",
    "        n_batches = 5\n",
    "        for batch_i in range(1, n_batches + 1):\n",
    "            for batch_features, batch_labels in helper.load_preprocess_training_batch(batch_i, batch_size):\n",
    "                train_neural_network(sess, optimizer, keep_probability, batch_features, batch_labels)\n",
    "            print('Epoch {:>2}, CIFAR-10 Batch {}:  '.format(epoch + 1, batch_i), end='')\n",
    "            print_stats(sess, batch_features, batch_labels, cost, accuracy)\n",
    "            \n",
    "    # Save Model\n",
    "    saver = tf.train.Saver()\n",
    "    save_path = saver.save(sess, save_model_path)"
   ]
  },
  {
   "cell_type": "markdown",
   "metadata": {
    "deletable": true,
    "editable": true
   },
   "source": [
    "# Checkpoint\n",
    "The model has been saved to disk.\n",
    "## Test Model\n",
    "Test your model against the test dataset.  This will be your final accuracy. You should have an accuracy greater than 50%. If you don't, keep tweaking the model architecture and parameters."
   ]
  },
  {
   "cell_type": "code",
   "execution_count": 46,
   "metadata": {
    "collapsed": false,
    "deletable": true,
    "editable": true
   },
   "outputs": [
    {
     "name": "stdout",
     "output_type": "stream",
     "text": [
      "Testing Accuracy: 0.6693474262952804\n",
      "\n"
     ]
    },
    {
     "data": {
      "image/png": "[encoded data removed]",
      "text/plain": [
       "<matplotlib.figure.Figure at 0x7f9270305160>"
      ]
     },
     "metadata": {
      "image/png": {
       "height": 319,
       "width": 355
      }
     },
     "output_type": "display_data"
    }
   ],
   "source": [
    "\"\"\"\n",
    "DON'T MODIFY ANYTHING IN THIS CELL\n",
    "\"\"\"\n",
    "%matplotlib inline\n",
    "%config InlineBackend.figure_format = 'retina'\n",
    "\n",
    "import tensorflow as tf\n",
    "import pickle\n",
    "import helper\n",
    "import random\n",
    "\n",
    "# Set batch size if not already set\n",
    "try:\n",
    "    if batch_size:\n",
    "        pass\n",
    "except NameError:\n",
    "    batch_size = 64\n",
    "\n",
    "save_model_path = './image_classification'\n",
    "n_samples = 4\n",
    "top_n_predictions = 3\n",
    "\n",
    "def test_model():\n",
    "    \"\"\"\n",
    "    Test the saved model against the test dataset\n",
    "    \"\"\"\n",
    "\n",
    "    test_features, test_labels = pickle.load(open('preprocess_training.p', mode='rb'))\n",
    "    loaded_graph = tf.Graph()\n",
    "\n",
    "    with tf.Session(graph=loaded_graph) as sess:\n",
    "        # Load model\n",
    "        loader = tf.train.import_meta_graph(save_model_path + '.meta')\n",
    "        loader.restore(sess, save_model_path)\n",
    "\n",
    "        # Get Tensors from loaded model\n",
    "        loaded_x = loaded_graph.get_tensor_by_name('x:0')\n",
    "        loaded_y = loaded_graph.get_tensor_by_name('y:0')\n",
    "        loaded_keep_prob = loaded_graph.get_tensor_by_name('keep_prob:0')\n",
    "        loaded_logits = loaded_graph.get_tensor_by_name('logits:0')\n",
    "        loaded_acc = loaded_graph.get_tensor_by_name('accuracy:0')\n",
    "        \n",
    "        # Get accuracy in batches for memory limitations\n",
    "        test_batch_acc_total = 0\n",
    "        test_batch_count = 0\n",
    "        \n",
    "        for train_feature_batch, train_label_batch in helper.batch_features_labels(test_features, test_labels, batch_size):\n",
    "            test_batch_acc_total += sess.run(\n",
    "                loaded_acc,\n",
    "                feed_dict={loaded_x: train_feature_batch, loaded_y: train_label_batch, loaded_keep_prob: 1.0})\n",
    "            test_batch_count += 1\n",
    "\n",
    "        print('Testing Accuracy: {}\\n'.format(test_batch_acc_total/test_batch_count))\n",
    "\n",
    "        # Print Random Samples\n",
    "        random_test_features, random_test_labels = tuple(zip(*random.sample(list(zip(test_features, test_labels)), n_samples)))\n",
    "        random_test_predictions = sess.run(\n",
    "            tf.nn.top_k(tf.nn.softmax(loaded_logits), top_n_predictions),\n",
    "            feed_dict={loaded_x: random_test_features, loaded_y: random_test_labels, loaded_keep_prob: 1.0})\n",
    "        helper.display_image_predictions(random_test_features, random_test_labels, random_test_predictions)\n",
    "\n",
    "\n",
    "test_model()"
   ]
  },
  {
   "cell_type": "markdown",
   "metadata": {
    "deletable": true,
    "editable": true
   },
   "source": [
    "## Why 50-80% Accuracy?\n",
    "You might be wondering why you can't get an accuracy any higher. First things first, 50% isn't bad for a simple CNN.  Pure guessing would get you 10% accuracy. However, you might notice people are getting scores [well above 80%](http://rodrigob.github.io/are_we_there_yet/build/classification_datasets_results.html#43494641522d3130).  That's because we haven't taught you all there is to know about neural networks. We still need to cover a few more techniques.\n",
    "## Submitting This Project\n",
    "When submitting this project, make sure to run all the cells before saving the notebook.  Save the notebook file as \"dlnd_image_classification.ipynb\" and save it as a HTML file under \"File\" -> \"Download as\".  Include the \"helper.py\" and \"problem_unittests.py\" files in your submission."
   ]
  }
 ],
 "metadata": {
  "kernelspec": {
   "display_name": "Python 3",
   "language": "python",
   "name": "python3"
  },
  "language_info": {
   "codemirror_mode": {
    "name": "ipython",
    "version": 3
   },
   "file_extension": ".py",
   "mimetype": "text/x-python",
   "name": "python",
   "nbconvert_exporter": "python",
   "pygments_lexer": "ipython3",
   "version": "3.6.1"
  }
 },
 "nbformat": 4,
 "nbformat_minor": 0
}
